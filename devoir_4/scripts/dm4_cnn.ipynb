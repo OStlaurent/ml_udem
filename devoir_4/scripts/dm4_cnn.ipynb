{
 "cells": [
  {
   "cell_type": "code",
   "execution_count": 1,
   "metadata": {
    "colab": {},
    "colab_type": "code",
    "id": "DVF3HVMNSfjJ"
   },
   "outputs": [
    {
     "name": "stdout",
     "output_type": "stream",
     "text": [
      "Populating the interactive namespace from numpy and matplotlib\n"
     ]
    }
   ],
   "source": [
    "import torch\n",
    "import torch.nn as nn\n",
    "import torch.nn.functional as F\n",
    "from torch.utils.data import Subset \n",
    "\n",
    "import numpy as np\n",
    "\n",
    "from sklearn import datasets\n",
    "from sklearn.model_selection import train_test_split\n",
    "from sklearn.preprocessing import OneHotEncoder\n",
    "\n",
    "%pylab inline"
   ]
  },
  {
   "cell_type": "code",
   "execution_count": 2,
   "metadata": {
    "colab": {},
    "colab_type": "code",
    "id": "UmCM_k4MrD-W"
   },
   "outputs": [],
   "source": [
    "#from google.colab import files\n",
    "#uploaded = files.upload()"
   ]
  },
  {
   "cell_type": "code",
   "execution_count": 3,
   "metadata": {
    "colab": {},
    "colab_type": "code",
    "id": "LwyskbOxrIHb"
   },
   "outputs": [],
   "source": [
    "#import zipfile\n",
    "#import io\n",
    "#zf = zipfile.ZipFile(io.BytesIO(uploaded['data.zip']), \"r\")\n",
    "#zf.extractall()\n",
    "\n",
    "#print(zf.infolist())"
   ]
  },
  {
   "cell_type": "code",
   "execution_count": null,
   "metadata": {
    "colab": {},
    "colab_type": "code",
    "id": "wbXsery7wLMX"
   },
   "outputs": [],
   "source": []
  },
  {
   "cell_type": "code",
   "execution_count": 4,
   "metadata": {
    "colab": {},
    "colab_type": "code",
    "id": "E6FCs-i6xabR"
   },
   "outputs": [
    {
     "name": "stdout",
     "output_type": "stream",
     "text": [
      "(5000, 1, 100, 100)\n",
      "(5000,)\n",
      "(5000, 1, 100, 100)\n",
      "(5000,)\n"
     ]
    }
   ],
   "source": [
    "x_train = np.load('input/X_train_clean_140_45.npy', encoding='bytes')\n",
    "y_train = np.loadtxt('input/train_labels.csv', delimiter=',', skiprows=1, dtype='str')\n",
    "\n",
    "#x_test = np.load('X_test.npy', encoding='bytes')\n",
    "middle = x_train.shape[0] // 2\n",
    "x_train_, x_test_ = x_train[:middle], x_train[middle:]\n",
    "y_train, y_test = y_train[:middle, 1], y_train[middle:, 1]\n",
    "#middle = x_train.shape[0] // 2\n",
    "#x_train_, x_test_ = x_train[:500], x_train[500:1000]\n",
    "#y_train, y_test = y_train[:500, 1], y_train[500:1000, 1]\n",
    "\n",
    "#ksize = 20\n",
    "#chans = (100 // ksize) ** 2\n",
    "\n",
    "#x_train = []\n",
    "#for exi in range(x_train_.shape[0]):\n",
    "#    ex = x_train_[exi].reshape((100,100))\n",
    "#    x_train.append([])\n",
    "#    for y in range(100 // ksize):\n",
    "#        for x in range(100 // ksize):\n",
    "#            x_train[exi].append(ex[x*ksize:(x+1)*ksize,y*ksize:(y+1)*ksize])\n",
    "\n",
    "#x_test = []\n",
    "#for exi in range(x_test_.shape[0]):\n",
    "#    ex = x_test_[exi].reshape((100,100))\n",
    "#    x_test.append([])\n",
    "#    for y in range(100 // ksize):\n",
    "#        for x in range(100 // ksize):\n",
    "#            x_test[exi].append(ex[x*ksize:(x+1)*ksize,y*ksize:(y+1)*ksize])\n",
    "\n",
    "x_train = np.array(x_train_.reshape((-1, 1, 100,100)))\n",
    "x_test  = np.array(x_test_.reshape((-1, 1, 100,100)))\n",
    "\n",
    "\n",
    "print(x_train.shape)\n",
    "print(y_train.shape)\n",
    "print(x_test.shape)\n",
    "print(y_test.shape)"
   ]
  },
  {
   "cell_type": "markdown",
   "metadata": {},
   "source": [
    "Le code suivant est adapté du tp d'introduction à PyTorch de IFT 3395"
   ]
  },
  {
   "cell_type": "code",
   "execution_count": 5,
   "metadata": {
    "colab": {},
    "colab_type": "code",
    "id": "D0-PnEUSUd14"
   },
   "outputs": [],
   "source": [
    "#iris = datasets.load_iris()\n",
    "\n",
    "# separer dans train/test avec sklearn\n",
    "#(x_train, x_test, y_train, y_test) = train_test_split(iris.data, iris.target)\n",
    "\n",
    "num_train = x_train.shape[0]\n",
    "num_test = x_test.shape[0]\n",
    "num_features = x_train.shape[1]\n",
    "num_classes = 31\n",
    "\n",
    "# encodage one-hot\n",
    "# e.g. 1 -> [0, 1, 0], 2 -> [0, 0 ,1]  \n",
    "one_hot = OneHotEncoder(sparse=False)\n",
    "y_train = one_hot.fit_transform(y_train.reshape(-1,1))\n",
    "y_test = one_hot.transform(y_test.reshape(-1,1))"
   ]
  },
  {
   "cell_type": "code",
   "execution_count": 6,
   "metadata": {
    "colab": {},
    "colab_type": "code",
    "id": "oHEGnf-qnd7L"
   },
   "outputs": [],
   "source": [
    "# I have an amd gpu :(\n",
    "#device = torch.device('cuda:0')    # we use 0 to specify the first GPU"
   ]
  },
  {
   "cell_type": "code",
   "execution_count": 7,
   "metadata": {
    "colab": {},
    "colab_type": "code",
    "id": "KWDAtYcfmyX5"
   },
   "outputs": [],
   "source": [
    "x_train = torch.from_numpy(x_train).float() #.to(device)\n",
    "x_test  = torch.from_numpy(x_test).float() #.to(device)\n",
    "\n",
    "y_train = np.argmax(y_train, axis=1)\n",
    "y_test  = np.argmax(y_test, axis=1)\n",
    "\n",
    "y_train = torch.from_numpy(y_train).long() #.to(device)\n",
    "y_test  = torch.from_numpy(y_test).long() #.to(device)"
   ]
  },
  {
   "cell_type": "code",
   "execution_count": 8,
   "metadata": {
    "colab": {},
    "colab_type": "code",
    "id": "nwnZUJrAaWhg"
   },
   "outputs": [],
   "source": [
    "torch.manual_seed(0)\n",
    "#torch.cuda.manual_seed(0)\n",
    "\n",
    "class HeavyNet(nn.Module):\n",
    "    \"\"\"A medium sized network that performs very well on MNIST.\"\"\"\n",
    "    \n",
    "    def __init__(self):\n",
    "        super().__init__()\n",
    "        # conv block 1\n",
    "        self.conv1 = nn.Conv2d(1, 32, 3, padding=1)\n",
    "        self.bn1 = nn.BatchNorm2d(32)\n",
    "        self.conv2 = nn.Conv2d(32, 32, 3, padding=1)\n",
    "        self.bn2 = nn.BatchNorm2d(32)\n",
    "        \n",
    "        # conv block 2\n",
    "        self.conv3 = nn.Conv2d(32, 64, 3, padding=1)\n",
    "        self.bn3 = nn.BatchNorm2d(64)\n",
    "        self.conv4 = nn.Conv2d(64, 64, 3, padding=1)\n",
    "        self.bn4 = nn.BatchNorm2d(64)\n",
    "        \n",
    "        # fully connected layers\n",
    "        self.fc1 = nn.Linear(64*25*25, 512)\n",
    "        self.bn5 = nn.BatchNorm1d(512)\n",
    "        self.dropout = nn.Dropout(0.2)\n",
    "        self.fc2 = nn.Linear(512, 31)\n",
    "        \n",
    "    def forward(self, x):\n",
    "        # x is [batch_size, channels, heigth, width] = [bs, 1, 28, 28]\n",
    "        x = F.relu(self.bn1(self.conv1(x)))\n",
    "        x = F.relu(self.bn2(self.conv2(x)))\n",
    "        x = F.max_pool2d(x, 2) # x is [bs, 32, 48, 48]\n",
    "        #print(x.shape)\n",
    "        x = F.relu(self.bn3(self.conv3(x)))\n",
    "        x = F.relu(self.bn4(self.conv4(x)))\n",
    "        x = F.max_pool2d(x, 2) # x is [bs, 64, 25, 25]\n",
    "        #print(x.shape)\n",
    "        x = x.view(x.size(0), -1) # flatten\n",
    "        #print(x.shape)\n",
    "        x = F.relu(self.bn5(self.fc1(x)))\n",
    "        x = self.dropout(x)\n",
    "        x = self.fc2(x)\n",
    "        \n",
    "        return x\n",
    "\n",
    "model = HeavyNet()\n",
    "\n",
    "# Surrogate loss used for training\n",
    "loss_fn = nn.CrossEntropyLoss()\n",
    "test_loss_fn = nn.CrossEntropyLoss(reduction='sum')\n",
    "\n",
    "num_epochs = 100\n",
    "lr = 0.0005\n",
    "optimizer = torch.optim.SGD(model.parameters(), lr=lr, momentum=0.9)\n",
    "\n",
    "def load_model(path):\n",
    "    model.load_state_dict(torch.load(path))\n",
    "\n",
    "def train():\n",
    "    \"\"\"Perform one epoch of training.\"\"\"\n",
    "    model.train()\n",
    "    \n",
    "    for epoch in range(num_epochs):\n",
    "        \n",
    "        idxs = np.random.uniform(0, x_train.shape[0], 50)\n",
    "        x = x_train[idxs]\n",
    "        y = y_train[idxs]\n",
    "        \n",
    "        # Let them code what's here\n",
    "        optimizer.zero_grad()\n",
    "        output = model(x)\n",
    "        loss = loss_fn(output, y)\n",
    "        loss.backward()\n",
    "        optimizer.step()\n",
    "        ###\n",
    "        \n",
    "        if ((epoch + 1) % 5) == 0:\n",
    "            print('Train Epoch: {}\\tloss: {:.6f}'.format((epoch+1), loss.item()))\n",
    "\n",
    "_ = \"\"\"\n",
    "def train_model():\n",
    "    num_epochs = 50\n",
    "    lr = 0.0005\n",
    "    optimizer = torch.optim.SGD(model.parameters(), lr=lr, momentum=0.9)\n",
    "    \n",
    "    losses = []\n",
    "    \n",
    "    for epoch in range(num_epochs):\n",
    "        idxs = np.random.uniform(0, x_train.shape[0], 25)\n",
    "        \n",
    "        x = x_train[idxs]\n",
    "        y = y_train[idxs]\n",
    "        \n",
    "        preds = model(x)\n",
    "        loss = loss_fn(preds, y)\n",
    "        \n",
    "        losses.append(loss.item())\n",
    "        \n",
    "        optimizer.zero_grad()\n",
    "        loss.backward()\n",
    "        optimizer.step()\n",
    "        \n",
    "        if epoch % 5 == 0:\n",
    "            print('Train Epoch {}: Loss: {:.6f}'.format(epoch, loss.item()))\n",
    "    \n",
    "    plot(range(num_epochs), losses)\n",
    "    xlabel('epochs')\n",
    "    ylabel('mean squared loss')\n",
    "\"\"\"\n"
   ]
  },
  {
   "cell_type": "code",
   "execution_count": null,
   "metadata": {
    "colab": {},
    "colab_type": "code",
    "id": "gdKVDOnUnuk_"
   },
   "outputs": [],
   "source": []
  },
  {
   "cell_type": "code",
   "execution_count": 9,
   "metadata": {},
   "outputs": [],
   "source": [
    "def save_model():\n",
    "    torch.save(model.state_dict(), 'model-conv2d-x_train-500')"
   ]
  },
  {
   "cell_type": "code",
   "execution_count": 10,
   "metadata": {},
   "outputs": [],
   "source": [
    "#load_model('model-x_train-5000')\n",
    "#train_model()\n",
    "\n",
    "#preds = model(x_test)\n",
    "#loss = loss_fn(preds, y_test)\n",
    "\n",
    "#print('mean squared loss on test data %.7f %%' % (loss * 100.0))\n",
    "\n",
    "#\n",
    "# 5000 train, 5000 test, 500 epoch, 2e-5 learning rate\n",
    "#     mean squared loss on test data 34.0440140 %\n",
    "#"
   ]
  },
  {
   "cell_type": "code",
   "execution_count": null,
   "metadata": {},
   "outputs": [],
   "source": []
  },
  {
   "cell_type": "code",
   "execution_count": null,
   "metadata": {},
   "outputs": [],
   "source": []
  },
  {
   "cell_type": "code",
   "execution_count": null,
   "metadata": {},
   "outputs": [],
   "source": []
  },
  {
   "cell_type": "code",
   "execution_count": null,
   "metadata": {},
   "outputs": [],
   "source": []
  },
  {
   "cell_type": "code",
   "execution_count": null,
   "metadata": {},
   "outputs": [],
   "source": []
  },
  {
   "cell_type": "code",
   "execution_count": 14,
   "metadata": {},
   "outputs": [],
   "source": [
    "def test():\n",
    "    \"\"\"Evaluate the model by doing one pass over a dataset\"\"\"\n",
    "    model.eval()\n",
    "    \n",
    "    test_loss = 0\n",
    "    correct = 0\n",
    "    test_size = 0\n",
    "    with torch.no_grad():\n",
    "        m = x_test.shape[0] // 100\n",
    "        for k in range(m):\n",
    "            x = x_test[k*m:(k+1)*m]\n",
    "            y = y_test[k*m:(k+1)*m]\n",
    "            \n",
    "            # let them code what's here\n",
    "            output = model(x)\n",
    "            test_size += len(x)\n",
    "            test_loss += loss_fn(output, y).item() # sum up batch loss\n",
    "            pred = output.max(1, keepdim=True)[1] # get the index of the max log-probability\n",
    "            correct += pred.eq(y.view_as(pred)).sum().item()\n",
    "\n",
    "    test_loss /= test_size\n",
    "    accuracy = correct / test_size\n",
    "    print('\\nTest set: Average loss: {:.4f}, Accuracy: {}/{} ({:.0f}%)\\n'.format(\n",
    "        test_loss, correct, test_size,\n",
    "        100. * accuracy))\n",
    "    \n",
    "    return test_loss, accuracy"
   ]
  },
  {
   "cell_type": "code",
   "execution_count": 12,
   "metadata": {},
   "outputs": [
    {
     "name": "stdout",
     "output_type": "stream",
     "text": [
      "Train Epoch: 5\tloss: 3.503602\n",
      "Train Epoch: 10\tloss: 3.385924\n",
      "Train Epoch: 15\tloss: 3.380804\n",
      "Train Epoch: 20\tloss: 3.409863\n",
      "Train Epoch: 25\tloss: 3.458301\n",
      "Train Epoch: 30\tloss: 3.281842\n",
      "Train Epoch: 35\tloss: 3.417306\n",
      "Train Epoch: 40\tloss: 3.356906\n",
      "Train Epoch: 45\tloss: 3.354928\n",
      "Train Epoch: 50\tloss: 3.285452\n",
      "Train Epoch: 55\tloss: 3.272003\n",
      "Train Epoch: 60\tloss: 3.274923\n",
      "Train Epoch: 65\tloss: 3.356913\n",
      "Train Epoch: 70\tloss: 3.239545\n",
      "Train Epoch: 75\tloss: 3.271949\n",
      "Train Epoch: 80\tloss: 3.206142\n",
      "Train Epoch: 85\tloss: 3.161509\n",
      "Train Epoch: 90\tloss: 3.233590\n",
      "Train Epoch: 95\tloss: 3.170251\n",
      "Train Epoch: 100\tloss: 3.148276\n"
     ]
    }
   ],
   "source": [
    "train()"
   ]
  },
  {
   "cell_type": "code",
   "execution_count": 15,
   "metadata": {},
   "outputs": [
    {
     "name": "stdout",
     "output_type": "stream",
     "text": [
      "\n",
      "Test set: Average loss: 0.0673, Accuracy: 203/2500 (8%)\n",
      "\n"
     ]
    },
    {
     "data": {
      "text/plain": [
       "(0.06726066446304321, 0.0812)"
      ]
     },
     "execution_count": 15,
     "metadata": {},
     "output_type": "execute_result"
    }
   ],
   "source": [
    "test()"
   ]
  },
  {
   "cell_type": "code",
   "execution_count": null,
   "metadata": {},
   "outputs": [],
   "source": []
  }
 ],
 "metadata": {
  "accelerator": "GPU",
  "colab": {
   "collapsed_sections": [],
   "name": "dm4-linear.ipynb",
   "provenance": [],
   "version": "0.3.2"
  },
  "kernelspec": {
   "display_name": "Python 3",
   "language": "python",
   "name": "python3"
  },
  "language_info": {
   "codemirror_mode": {
    "name": "ipython",
    "version": 3
   },
   "file_extension": ".py",
   "mimetype": "text/x-python",
   "name": "python",
   "nbconvert_exporter": "python",
   "pygments_lexer": "ipython3",
   "version": "3.7.1"
  }
 },
 "nbformat": 4,
 "nbformat_minor": 1
}
