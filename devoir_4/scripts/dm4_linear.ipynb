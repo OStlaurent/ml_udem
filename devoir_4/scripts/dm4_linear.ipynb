{
 "cells": [
  {
   "cell_type": "code",
   "execution_count": 1,
   "metadata": {
    "colab": {},
    "colab_type": "code",
    "id": "DVF3HVMNSfjJ"
   },
   "outputs": [],
   "source": [
    "import torch\n",
    "\n",
    "import numpy as np\n",
    "\n",
    "from sklearn import datasets\n",
    "from sklearn.model_selection import train_test_split\n",
    "from sklearn.preprocessing import OneHotEncoder"
   ]
  },
  {
   "cell_type": "code",
   "execution_count": 2,
   "metadata": {
    "colab": {},
    "colab_type": "code",
    "id": "UmCM_k4MrD-W"
   },
   "outputs": [],
   "source": [
    "#from google.colab import files\n",
    "#uploaded = files.upload()"
   ]
  },
  {
   "cell_type": "code",
   "execution_count": 3,
   "metadata": {
    "colab": {},
    "colab_type": "code",
    "id": "LwyskbOxrIHb"
   },
   "outputs": [],
   "source": [
    "#import zipfile\n",
    "#import io\n",
    "#zf = zipfile.ZipFile(io.BytesIO(uploaded['data.zip']), \"r\")\n",
    "#zf.extractall()\n",
    "\n",
    "#print(zf.infolist())"
   ]
  },
  {
   "cell_type": "code",
   "execution_count": null,
   "metadata": {
    "colab": {},
    "colab_type": "code",
    "id": "wbXsery7wLMX"
   },
   "outputs": [],
   "source": []
  },
  {
   "cell_type": "code",
   "execution_count": 4,
   "metadata": {
    "colab": {},
    "colab_type": "code",
    "id": "E6FCs-i6xabR"
   },
   "outputs": [
    {
     "name": "stdout",
     "output_type": "stream",
     "text": [
      "(5000, 10000)\n",
      "(5000,)\n",
      "(5000, 10000)\n",
      "(5000,)\n"
     ]
    }
   ],
   "source": [
    "x_train = np.load('X_train.npy', encoding='bytes')\n",
    "y_train = np.loadtxt('input/train_labels.csv', delimiter=',', skiprows=1, dtype='str')\n",
    "\n",
    "#x_test = np.load('X_test.npy', encoding='bytes')\n",
    "middle = x_train.shape[0] // 2\n",
    "x_train, x_test = x_train[:middle], x_train[middle:]\n",
    "y_train, y_test = y_train[:middle, 1], y_train[middle:, 1]\n",
    "#middle = x_train.shape[0] // 2\n",
    "#x_train, x_test = x_train[:500], x_train[500:1000]\n",
    "#y_train, y_test = y_train[:500, 1], y_train[500:1000, 1]\n",
    "\n",
    "print(x_train.shape)\n",
    "print(y_train.shape)\n",
    "print(x_test.shape)\n",
    "print(y_test.shape)"
   ]
  },
  {
   "cell_type": "markdown",
   "metadata": {},
   "source": [
    "Le code suivant est adapté du tp d'introduction à PyTorch de IFT 3395"
   ]
  },
  {
   "cell_type": "code",
   "execution_count": 5,
   "metadata": {
    "colab": {},
    "colab_type": "code",
    "id": "D0-PnEUSUd14"
   },
   "outputs": [],
   "source": [
    "#iris = datasets.load_iris()\n",
    "\n",
    "# separer dans train/test avec sklearn\n",
    "#(x_train, x_test, y_train, y_test) = train_test_split(iris.data, iris.target)\n",
    "\n",
    "num_train = x_train.shape[0]\n",
    "num_test = x_test.shape[0]\n",
    "num_features = x_train.shape[1]\n",
    "num_classes = 31\n",
    "\n",
    "# encodage one-hot\n",
    "# e.g. 1 -> [0, 1, 0], 2 -> [0, 0 ,1]  \n",
    "one_hot = OneHotEncoder(sparse=False)\n",
    "y_train = one_hot.fit_transform(y_train.reshape(-1,1))\n",
    "y_test = one_hot.transform(y_test.reshape(-1,1))"
   ]
  },
  {
   "cell_type": "code",
   "execution_count": 6,
   "metadata": {
    "colab": {},
    "colab_type": "code",
    "id": "oHEGnf-qnd7L"
   },
   "outputs": [],
   "source": [
    "# I have an amd gpu :(\n",
    "#device = torch.device('cuda:0')    # we use 0 to specify the first GPU"
   ]
  },
  {
   "cell_type": "code",
   "execution_count": 7,
   "metadata": {
    "colab": {},
    "colab_type": "code",
    "id": "KWDAtYcfmyX5"
   },
   "outputs": [],
   "source": [
    "x_train = torch.from_numpy(x_train).float() #.to(device)\n",
    "x_test = torch.from_numpy(x_test).float() #.to(device)\n",
    "y_train = torch.from_numpy(y_train).float() #.to(device)\n",
    "y_test = torch.from_numpy(y_test).float() #.to(device)"
   ]
  },
  {
   "cell_type": "code",
   "execution_count": 8,
   "metadata": {
    "colab": {},
    "colab_type": "code",
    "id": "nwnZUJrAaWhg"
   },
   "outputs": [],
   "source": [
    "torch.manual_seed(0)\n",
    "torch.cuda.manual_seed(0)\n",
    "\n",
    "#\n",
    "# OK, la régression logistique c'est en gros un réseau d'un neurone, non?\n",
    "#     Alors si on le répète une fois pour chaque classe c'est plus ou moins\n",
    "#     un réseau de neurone d'une seule couche avec un neurone par classe.\n",
    "#     (À savoir un algo linéaire répèter pour chaque classe et on prend le max.)\n",
    "#\n",
    "model = torch.nn.Sequential(\n",
    "    torch.nn.Linear(num_features, num_classes, False),\n",
    "    torch.nn.Sigmoid()\n",
    ") #.to(device)\n",
    "\n",
    "loss_fn = torch.nn.MSELoss()\n",
    "\n",
    "num_epochs = 500\n",
    "learning_rate = 2e-5\n",
    "optimizer = torch.optim.SGD(model.parameters(), lr=learning_rate)\n",
    "\n",
    "losses = []\n",
    "\n",
    "for epoch in range(num_epochs):\n",
    "    preds = model(x_train)\n",
    "    loss = loss_fn(preds, y_train)\n",
    "\n",
    "    losses.append(loss.item())\n",
    "\n",
    "    optimizer.zero_grad()\n",
    "    loss.backward()\n",
    "    optimizer.step()\n"
   ]
  },
  {
   "cell_type": "code",
   "execution_count": 9,
   "metadata": {
    "colab": {},
    "colab_type": "code",
    "id": "gdKVDOnUnuk_"
   },
   "outputs": [
    {
     "name": "stdout",
     "output_type": "stream",
     "text": [
      "Populating the interactive namespace from numpy and matplotlib\n"
     ]
    },
    {
     "data": {
      "text/plain": [
       "Text(0, 0.5, 'mean squared loss')"
      ]
     },
     "execution_count": 9,
     "metadata": {},
     "output_type": "execute_result"
    },
    {
     "data": {
      "image/png": "[encoded data removed]",
      "text/plain": [
       "<Figure size 432x288 with 1 Axes>"
      ]
     },
     "metadata": {
      "needs_background": "light"
     },
     "output_type": "display_data"
    }
   ],
   "source": [
    "%pylab inline\n",
    "\n",
    "plot(range(num_epochs), losses)\n",
    "xlabel('epochs')\n",
    "ylabel('mean squared loss')"
   ]
  },
  {
   "cell_type": "code",
   "execution_count": 10,
   "metadata": {},
   "outputs": [],
   "source": [
    "torch.save(model.state_dict(), 'model-x_train-5000')"
   ]
  },
  {
   "cell_type": "code",
   "execution_count": 11,
   "metadata": {},
   "outputs": [
    {
     "name": "stdout",
     "output_type": "stream",
     "text": [
      "mean squared loss on test data 34.0440140 %\n"
     ]
    }
   ],
   "source": [
    "preds = model(x_test)\n",
    "loss = loss_fn(preds, y_test)\n",
    "\n",
    "print('mean squared loss on test data %.7f %%' % (loss * 100.0))\n",
    "\n",
    "#\n",
    "# 5000 train, 5000 test, 500 epoch, 2e-5 learning rate\n",
    "#     mean squared loss on test data 34.0440140 %\n",
    "#"
   ]
  },
  {
   "cell_type": "code",
   "execution_count": null,
   "metadata": {},
   "outputs": [],
   "source": []
  }
 ],
 "metadata": {
  "accelerator": "GPU",
  "colab": {
   "collapsed_sections": [],
   "name": "dm4-linear.ipynb",
   "provenance": [],
   "version": "0.3.2"
  },
  "kernelspec": {
   "display_name": "Python 3",
   "language": "python",
   "name": "python3"
  },
  "language_info": {
   "codemirror_mode": {
    "name": "ipython",
    "version": 3
   },
   "file_extension": ".py",
   "mimetype": "text/x-python",
   "name": "python",
   "nbconvert_exporter": "python",
   "pygments_lexer": "ipython3",
   "version": "3.7.1"
  }
 },
 "nbformat": 4,
 "nbformat_minor": 1
}
